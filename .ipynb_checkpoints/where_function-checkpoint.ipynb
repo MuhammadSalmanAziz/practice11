{
 "cells": [
  {
   "cell_type": "code",
   "execution_count": 1,
   "id": "b2473e47",
   "metadata": {},
   "outputs": [],
   "source": [
    "import numpy as np"
   ]
  },
  {
   "cell_type": "code",
   "execution_count": 2,
   "id": "5024a5ff",
   "metadata": {},
   "outputs": [],
   "source": [
    "a = np.array([1,2,3,4,5,6,7,8])\n",
    "b = np.array([8,2,4,5,1,9,3,7])"
   ]
  },
  {
   "cell_type": "code",
   "execution_count": 3,
   "id": "62c51e18",
   "metadata": {},
   "outputs": [
    {
     "data": {
      "text/plain": [
       "array([8, 2, 4, 5, 5, 9, 7, 8])"
      ]
     },
     "execution_count": 3,
     "metadata": {},
     "output_type": "execute_result"
    }
   ],
   "source": [
    "np.where(a>b ,a,b )"
   ]
  },
  {
   "cell_type": "code",
   "execution_count": 4,
   "id": "514b7c19",
   "metadata": {},
   "outputs": [],
   "source": [
    "c = np.array([50,34,60,75,80,39,67])"
   ]
  },
  {
   "cell_type": "code",
   "execution_count": 7,
   "id": "dc224d85",
   "metadata": {},
   "outputs": [
    {
     "data": {
      "text/plain": [
       "array(['Pass', 'fail', 'Pass', 'Pass', 'Pass', 'fail', 'Pass'],\n",
       "      dtype='<U4')"
      ]
     },
     "execution_count": 7,
     "metadata": {},
     "output_type": "execute_result"
    }
   ],
   "source": [
    "np.where(c > 40 , \"Pass\" , \"fail\")"
   ]
  },
  {
   "cell_type": "code",
   "execution_count": 8,
   "id": "8fba3066",
   "metadata": {},
   "outputs": [],
   "source": [
    "d = np.array([1,2,3,4,5,6,7,8,9])\n",
    "e = np.array([1,2,3,4,5,6,7,8,9])"
   ]
  },
  {
   "cell_type": "code",
   "execution_count": 9,
   "id": "596ee01b",
   "metadata": {},
   "outputs": [
    {
     "data": {
      "text/plain": [
       "array(['true', 'true', 'true', 'true', 'true', 'true', 'true', 'true',\n",
       "       'true'], dtype='<U5')"
      ]
     },
     "execution_count": 9,
     "metadata": {},
     "output_type": "execute_result"
    }
   ],
   "source": [
    "np.where(d==e, \"true\",\"false\")\n"
   ]
  },
  {
   "cell_type": "code",
   "execution_count": null,
   "id": "482a9c0a",
   "metadata": {},
   "outputs": [],
   "source": []
  },
  {
   "cell_type": "code",
   "execution_count": null,
   "id": "0bc5cb86",
   "metadata": {},
   "outputs": [],
   "source": []
  }
 ],
 "metadata": {
  "kernelspec": {
   "display_name": "Python 3 (ipykernel)",
   "language": "python",
   "name": "python3"
  },
  "language_info": {
   "codemirror_mode": {
    "name": "ipython",
    "version": 3
   },
   "file_extension": ".py",
   "mimetype": "text/x-python",
   "name": "python",
   "nbconvert_exporter": "python",
   "pygments_lexer": "ipython3",
   "version": "3.9.12"
  }
 },
 "nbformat": 4,
 "nbformat_minor": 5
}
